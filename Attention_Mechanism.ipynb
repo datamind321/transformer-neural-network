{
  "nbformat": 4,
  "nbformat_minor": 0,
  "metadata": {
    "colab": {
      "provenance": []
    },
    "kernelspec": {
      "name": "python3",
      "display_name": "Python 3"
    },
    "language_info": {
      "name": "python"
    }
  },
  "cells": [
    {
      "cell_type": "markdown",
      "source": [
        "![multi-head-self-attention-block-diagram.png](data:image/png;base64,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)"
      ],
      "metadata": {
        "id": "c71VwkoWFXtK"
      }
    },
    {
      "cell_type": "markdown",
      "source": [
        "# Implementation"
      ],
      "metadata": {
        "id": "FVu-OGTxGW-z"
      }
    },
    {
      "cell_type": "code",
      "execution_count": null,
      "metadata": {
        "id": "VyD04_pDFI0A"
      },
      "outputs": [],
      "source": [
        "# encoder representation of four different words\n",
        "# For Example :- I Love My India\n",
        "# I = [1,0,0] , Love = [0,1,0] , My = [1,1,0] , India = [0,0,1]\n",
        "import numpy as np\n",
        "word_1 = np.array([1,0,0])\n",
        "word_2 = np.array([0,1,0])\n",
        "word_3 = np.array([1,1,0])\n",
        "word_4 = np.array([0,0,1])"
      ]
    },
    {
      "cell_type": "code",
      "source": [
        "# Generate Weight Matrix\n",
        "import random\n",
        "random.seed(42)\n",
        "W_Q = np.random.randint(3,size=(3,3))   # --- queries\n",
        "W_K = np.random.randint(3,size=(3,3))   # ---- keys\n",
        "W_V = np.random.randint(3,size=(3,3))   # --- values"
      ],
      "metadata": {
        "id": "9aQhxryCHJYF"
      },
      "execution_count": null,
      "outputs": []
    },
    {
      "cell_type": "code",
      "source": [
        "W_V"
      ],
      "metadata": {
        "colab": {
          "base_uri": "https://localhost:8080/"
        },
        "id": "2ebKR07XHqC2",
        "outputId": "e4a84ec0-6fa5-4a4a-d81f-4cbd6918bcf9"
      },
      "execution_count": null,
      "outputs": [
        {
          "output_type": "execute_result",
          "data": {
            "text/plain": [
              "array([[1, 1, 1],\n",
              "       [1, 1, 2],\n",
              "       [2, 1, 2]])"
            ]
          },
          "metadata": {},
          "execution_count": 20
        }
      ]
    },
    {
      "cell_type": "code",
      "source": [
        "Q1 = word_1 @ W_Q\n",
        "K1 = word_1 @ W_K\n",
        "v1 = word_1 @ W_V\n",
        "\n",
        "Q2 = word_2 @ W_Q\n",
        "K2 = word_2 @ W_K\n",
        "v2 = word_2 @ W_V\n",
        "\n",
        "Q3 = word_3 @ W_Q\n",
        "K3 = word_3 @ W_K\n",
        "v3 = word_3 @ W_V\n",
        "\n",
        "Q4 = word_4 @ W_Q\n",
        "K4 = word_4 @ W_K\n",
        "v4 = word_4 @ W_V"
      ],
      "metadata": {
        "id": "S4v49iDHHrFh"
      },
      "execution_count": null,
      "outputs": []
    },
    {
      "cell_type": "code",
      "source": [
        "# scoring the first query vector against all key vectors\n",
        "scores = np.array([np.dot(Q1,K1),np.dot(Q2,K2),np.dot(Q3,K3),np.dot(Q3,K3)])"
      ],
      "metadata": {
        "id": "Ro7h41kUIq7Y"
      },
      "execution_count": null,
      "outputs": []
    },
    {
      "cell_type": "code",
      "source": [
        "from scipy.special import softmax\n",
        "weights = softmax(scores / K1.shape[0] ** 0.5)\n",
        "weights"
      ],
      "metadata": {
        "colab": {
          "base_uri": "https://localhost:8080/"
        },
        "id": "oxhERicoJLio",
        "outputId": "ac6958bd-152c-4d0e-8024-3c1bacc3ea2a"
      },
      "execution_count": null,
      "outputs": [
        {
          "output_type": "execute_result",
          "data": {
            "text/plain": [
              "array([2.74892627e-04, 1.54320299e-04, 4.99785394e-01, 4.99785394e-01])"
            ]
          },
          "metadata": {},
          "execution_count": 25
        }
      ]
    },
    {
      "cell_type": "code",
      "source": [
        "attention = ((weights[0] * v1) + (weights[1] * v2) + (weights[2] * v3) + (weights[3] * v4) )"
      ],
      "metadata": {
        "id": "0Au9oEmRJMvl"
      },
      "execution_count": null,
      "outputs": []
    },
    {
      "cell_type": "code",
      "source": [
        "print(attention)"
      ],
      "metadata": {
        "colab": {
          "base_uri": "https://localhost:8080/"
        },
        "id": "8sjixQkdJ6B4",
        "outputId": "0a024045-62e1-4b89-8e6b-43e27bf3e2b5"
      },
      "execution_count": null,
      "outputs": [
        {
          "output_type": "stream",
          "name": "stdout",
          "text": [
            "[1.99957079 1.49978539 2.4995105 ]\n"
          ]
        }
      ]
    },
    {
      "cell_type": "markdown",
      "source": [
        "## Full Code"
      ],
      "metadata": {
        "id": "bI_nyR1nKhKv"
      }
    },
    {
      "cell_type": "code",
      "source": [
        "from numpy import array\n",
        "from numpy import random\n",
        "from numpy import dot\n",
        "from scipy.special import softmax\n",
        "\n",
        "# encoder representation of all different words\n",
        "word_1 = array([1,0,0])\n",
        "word_2 = array([0,1,0])\n",
        "word_3 = array([1,1,0])\n",
        "word_4 = array([0,0,1])\n",
        "\n",
        "# stacking all words\n",
        "words = array([word_1,word_2,word_3,word_4])\n",
        "\n",
        "# generating the weights matrices\n",
        "random.seed(42)\n",
        "\n",
        "W_Q = random.randint(3,size=(3,3))\n",
        "W_K = random.randint(3,size=(3,3))\n",
        "W_V = random.randint(3,size=(3,3))\n",
        "\n",
        "# generating the key , queries values\n",
        "Q = words @ W_Q\n",
        "K = words @ W_K\n",
        "V = words @ W_V\n",
        "\n",
        "# scoring the query vectors against all key vectors\n",
        "scores = Q @ K.transpose()\n",
        "\n",
        "# computing the weights by a softmax operation\n",
        "weights = softmax( scores / K.shape[1] ** 0.5 , axis=1)\n",
        "\n",
        "# computing the attention by a weighted sum of the value vectors\n",
        "\n",
        "attention = weights @ V\n",
        "\n",
        "print(attention)\n"
      ],
      "metadata": {
        "colab": {
          "base_uri": "https://localhost:8080/"
        },
        "id": "QXKuTf39J8V-",
        "outputId": "0c785bf5-14b6-4a11-b9c7-9711b9e8292f"
      },
      "execution_count": null,
      "outputs": [
        {
          "output_type": "stream",
          "name": "stdout",
          "text": [
            "[[0.98522025 1.74174051 0.75652026]\n",
            " [0.90965265 1.40965265 0.5       ]\n",
            " [0.99851226 1.75849334 0.75998108]\n",
            " [0.99560386 1.90407309 0.90846923]]\n"
          ]
        }
      ]
    },
    {
      "cell_type": "markdown",
      "source": [
        "## Attention Mechanism"
      ],
      "metadata": {
        "id": "jAMtfq62NftT"
      }
    },
    {
      "cell_type": "code",
      "source": [
        "!pip install attention"
      ],
      "metadata": {
        "colab": {
          "base_uri": "https://localhost:8080/"
        },
        "id": "WLctUe0TNwkZ",
        "outputId": "6719c656-eae4-4a1d-de8a-20b42641dd9c"
      },
      "execution_count": null,
      "outputs": [
        {
          "output_type": "stream",
          "name": "stdout",
          "text": [
            "Collecting attention\n",
            "  Downloading attention-5.0.0-py3-none-any.whl (9.0 kB)\n",
            "Requirement already satisfied: numpy>=1.18.1 in /usr/local/lib/python3.10/dist-packages (from attention) (1.23.5)\n",
            "Requirement already satisfied: tensorflow>=2.1 in /usr/local/lib/python3.10/dist-packages (from attention) (2.15.0)\n",
            "Requirement already satisfied: absl-py>=1.0.0 in /usr/local/lib/python3.10/dist-packages (from tensorflow>=2.1->attention) (1.4.0)\n",
            "Requirement already satisfied: astunparse>=1.6.0 in /usr/local/lib/python3.10/dist-packages (from tensorflow>=2.1->attention) (1.6.3)\n",
            "Requirement already satisfied: flatbuffers>=23.5.26 in /usr/local/lib/python3.10/dist-packages (from tensorflow>=2.1->attention) (23.5.26)\n",
            "Requirement already satisfied: gast!=0.5.0,!=0.5.1,!=0.5.2,>=0.2.1 in /usr/local/lib/python3.10/dist-packages (from tensorflow>=2.1->attention) (0.5.4)\n",
            "Requirement already satisfied: google-pasta>=0.1.1 in /usr/local/lib/python3.10/dist-packages (from tensorflow>=2.1->attention) (0.2.0)\n",
            "Requirement already satisfied: h5py>=2.9.0 in /usr/local/lib/python3.10/dist-packages (from tensorflow>=2.1->attention) (3.9.0)\n",
            "Requirement already satisfied: libclang>=13.0.0 in /usr/local/lib/python3.10/dist-packages (from tensorflow>=2.1->attention) (16.0.6)\n",
            "Requirement already satisfied: ml-dtypes~=0.2.0 in /usr/local/lib/python3.10/dist-packages (from tensorflow>=2.1->attention) (0.2.0)\n",
            "Requirement already satisfied: opt-einsum>=2.3.2 in /usr/local/lib/python3.10/dist-packages (from tensorflow>=2.1->attention) (3.3.0)\n",
            "Requirement already satisfied: packaging in /usr/local/lib/python3.10/dist-packages (from tensorflow>=2.1->attention) (23.2)\n",
            "Requirement already satisfied: protobuf!=4.21.0,!=4.21.1,!=4.21.2,!=4.21.3,!=4.21.4,!=4.21.5,<5.0.0dev,>=3.20.3 in /usr/local/lib/python3.10/dist-packages (from tensorflow>=2.1->attention) (3.20.3)\n",
            "Requirement already satisfied: setuptools in /usr/local/lib/python3.10/dist-packages (from tensorflow>=2.1->attention) (67.7.2)\n",
            "Requirement already satisfied: six>=1.12.0 in /usr/local/lib/python3.10/dist-packages (from tensorflow>=2.1->attention) (1.16.0)\n",
            "Requirement already satisfied: termcolor>=1.1.0 in /usr/local/lib/python3.10/dist-packages (from tensorflow>=2.1->attention) (2.4.0)\n",
            "Requirement already satisfied: typing-extensions>=3.6.6 in /usr/local/lib/python3.10/dist-packages (from tensorflow>=2.1->attention) (4.5.0)\n",
            "Requirement already satisfied: wrapt<1.15,>=1.11.0 in /usr/local/lib/python3.10/dist-packages (from tensorflow>=2.1->attention) (1.14.1)\n",
            "Requirement already satisfied: tensorflow-io-gcs-filesystem>=0.23.1 in /usr/local/lib/python3.10/dist-packages (from tensorflow>=2.1->attention) (0.34.0)\n",
            "Requirement already satisfied: grpcio<2.0,>=1.24.3 in /usr/local/lib/python3.10/dist-packages (from tensorflow>=2.1->attention) (1.60.0)\n",
            "Requirement already satisfied: tensorboard<2.16,>=2.15 in /usr/local/lib/python3.10/dist-packages (from tensorflow>=2.1->attention) (2.15.1)\n",
            "Requirement already satisfied: tensorflow-estimator<2.16,>=2.15.0 in /usr/local/lib/python3.10/dist-packages (from tensorflow>=2.1->attention) (2.15.0)\n",
            "Requirement already satisfied: keras<2.16,>=2.15.0 in /usr/local/lib/python3.10/dist-packages (from tensorflow>=2.1->attention) (2.15.0)\n",
            "Requirement already satisfied: wheel<1.0,>=0.23.0 in /usr/local/lib/python3.10/dist-packages (from astunparse>=1.6.0->tensorflow>=2.1->attention) (0.42.0)\n",
            "Requirement already satisfied: google-auth<3,>=1.6.3 in /usr/local/lib/python3.10/dist-packages (from tensorboard<2.16,>=2.15->tensorflow>=2.1->attention) (2.17.3)\n",
            "Requirement already satisfied: google-auth-oauthlib<2,>=0.5 in /usr/local/lib/python3.10/dist-packages (from tensorboard<2.16,>=2.15->tensorflow>=2.1->attention) (1.2.0)\n",
            "Requirement already satisfied: markdown>=2.6.8 in /usr/local/lib/python3.10/dist-packages (from tensorboard<2.16,>=2.15->tensorflow>=2.1->attention) (3.5.1)\n",
            "Requirement already satisfied: requests<3,>=2.21.0 in /usr/local/lib/python3.10/dist-packages (from tensorboard<2.16,>=2.15->tensorflow>=2.1->attention) (2.31.0)\n",
            "Requirement already satisfied: tensorboard-data-server<0.8.0,>=0.7.0 in /usr/local/lib/python3.10/dist-packages (from tensorboard<2.16,>=2.15->tensorflow>=2.1->attention) (0.7.2)\n",
            "Requirement already satisfied: werkzeug>=1.0.1 in /usr/local/lib/python3.10/dist-packages (from tensorboard<2.16,>=2.15->tensorflow>=2.1->attention) (3.0.1)\n",
            "Requirement already satisfied: cachetools<6.0,>=2.0.0 in /usr/local/lib/python3.10/dist-packages (from google-auth<3,>=1.6.3->tensorboard<2.16,>=2.15->tensorflow>=2.1->attention) (5.3.2)\n",
            "Requirement already satisfied: pyasn1-modules>=0.2.1 in /usr/local/lib/python3.10/dist-packages (from google-auth<3,>=1.6.3->tensorboard<2.16,>=2.15->tensorflow>=2.1->attention) (0.3.0)\n",
            "Requirement already satisfied: rsa<5,>=3.1.4 in /usr/local/lib/python3.10/dist-packages (from google-auth<3,>=1.6.3->tensorboard<2.16,>=2.15->tensorflow>=2.1->attention) (4.9)\n",
            "Requirement already satisfied: requests-oauthlib>=0.7.0 in /usr/local/lib/python3.10/dist-packages (from google-auth-oauthlib<2,>=0.5->tensorboard<2.16,>=2.15->tensorflow>=2.1->attention) (1.3.1)\n",
            "Requirement already satisfied: charset-normalizer<4,>=2 in /usr/local/lib/python3.10/dist-packages (from requests<3,>=2.21.0->tensorboard<2.16,>=2.15->tensorflow>=2.1->attention) (3.3.2)\n",
            "Requirement already satisfied: idna<4,>=2.5 in /usr/local/lib/python3.10/dist-packages (from requests<3,>=2.21.0->tensorboard<2.16,>=2.15->tensorflow>=2.1->attention) (3.6)\n",
            "Requirement already satisfied: urllib3<3,>=1.21.1 in /usr/local/lib/python3.10/dist-packages (from requests<3,>=2.21.0->tensorboard<2.16,>=2.15->tensorflow>=2.1->attention) (2.0.7)\n",
            "Requirement already satisfied: certifi>=2017.4.17 in /usr/local/lib/python3.10/dist-packages (from requests<3,>=2.21.0->tensorboard<2.16,>=2.15->tensorflow>=2.1->attention) (2023.11.17)\n",
            "Requirement already satisfied: MarkupSafe>=2.1.1 in /usr/local/lib/python3.10/dist-packages (from werkzeug>=1.0.1->tensorboard<2.16,>=2.15->tensorflow>=2.1->attention) (2.1.3)\n",
            "Requirement already satisfied: pyasn1<0.6.0,>=0.4.6 in /usr/local/lib/python3.10/dist-packages (from pyasn1-modules>=0.2.1->google-auth<3,>=1.6.3->tensorboard<2.16,>=2.15->tensorflow>=2.1->attention) (0.5.1)\n",
            "Requirement already satisfied: oauthlib>=3.0.0 in /usr/local/lib/python3.10/dist-packages (from requests-oauthlib>=0.7.0->google-auth-oauthlib<2,>=0.5->tensorboard<2.16,>=2.15->tensorflow>=2.1->attention) (3.2.2)\n",
            "Installing collected packages: attention\n",
            "Successfully installed attention-5.0.0\n"
          ]
        }
      ]
    },
    {
      "cell_type": "code",
      "source": [
        "import tensorflow as tf\n",
        "from attention import Attention\n",
        "\n",
        "# custom vars\n",
        "TOP_WORDS = 5000\n",
        "EMBEDDING_LEN = 32\n",
        "ADD_ATTENTION = True\n",
        "MAX_INPUT_LEN = 200\n",
        "\n",
        "# pre-process the data\n",
        "(train_x,train_y),(test_x,test_y) = tf.keras.datasets.imdb.load_data(num_words=TOP_WORDS)\n",
        "train_x = tf.keras.preprocessing.sequence.pad_sequences(train_x,maxlen=MAX_INPUT_LEN)\n",
        "test_x = tf.keras.preprocessing.sequence.pad_sequences(test_x,maxlen=MAX_INPUT_LEN)\n",
        "\n",
        "# Model\n",
        "\n",
        "model = tf.keras.Sequential([\n",
        "                             tf.keras.layers.Embedding(TOP_WORDS, EMBEDDING_LEN, input_length = MAX_INPUT_LEN) ,\n",
        "                             tf.keras.layers.Dropout(0.5),\n",
        "                             *([tf.keras.layers.LSTM(100,return_sequences=True),Attention()] if ADD_ATTENTION else [tf.keras.layers.LSTM(100), tf.keras.layers.Dense(350,activation='relu')]),\n",
        "                              tf.keras.layers.Dropout(0.5),\n",
        "                             tf.keras.layers.Dense(1,activation='sigmoid')\n",
        "                              ])\n",
        "\n",
        "model.compile(optimizer='adam',loss='binary_crossentropy',metrics=['accuracy'])\n",
        "\n",
        "model.fit(\n",
        "     train_x,\n",
        "     train_y,\n",
        "     verbose=1,\n",
        "     validation_data = (test_x,test_y),\n",
        "     epochs = 10,\n",
        "     batch_size=64\n",
        ")"
      ],
      "metadata": {
        "colab": {
          "base_uri": "https://localhost:8080/"
        },
        "id": "l_h32kiMMTZp",
        "outputId": "381957e0-fc79-4025-d9ed-7af37ed59932"
      },
      "execution_count": null,
      "outputs": [
        {
          "output_type": "stream",
          "name": "stdout",
          "text": [
            "Epoch 1/10\n",
            "391/391 [==============================] - 163s 411ms/step - loss: 0.4332 - accuracy: 0.7950 - val_loss: 0.2900 - val_accuracy: 0.8788\n",
            "Epoch 2/10\n",
            "391/391 [==============================] - 159s 407ms/step - loss: 0.2646 - accuracy: 0.8914 - val_loss: 0.2907 - val_accuracy: 0.8795\n",
            "Epoch 3/10\n",
            "391/391 [==============================] - 200s 512ms/step - loss: 0.2323 - accuracy: 0.9072 - val_loss: 0.3134 - val_accuracy: 0.8696\n",
            "Epoch 4/10\n",
            "391/391 [==============================] - 159s 408ms/step - loss: 0.2061 - accuracy: 0.9182 - val_loss: 0.2936 - val_accuracy: 0.8762\n",
            "Epoch 5/10\n",
            "391/391 [==============================] - 159s 406ms/step - loss: 0.1837 - accuracy: 0.9289 - val_loss: 0.3084 - val_accuracy: 0.8742\n",
            "Epoch 6/10\n",
            "391/391 [==============================] - 200s 512ms/step - loss: 0.1680 - accuracy: 0.9352 - val_loss: 0.3531 - val_accuracy: 0.8672\n",
            "Epoch 7/10\n",
            "391/391 [==============================] - 158s 405ms/step - loss: 0.1519 - accuracy: 0.9414 - val_loss: 0.3583 - val_accuracy: 0.8716\n",
            "Epoch 8/10\n",
            "391/391 [==============================] - 159s 406ms/step - loss: 0.1396 - accuracy: 0.9472 - val_loss: 0.3915 - val_accuracy: 0.8623\n",
            "Epoch 9/10\n",
            "391/391 [==============================] - 200s 512ms/step - loss: 0.1328 - accuracy: 0.9490 - val_loss: 0.3876 - val_accuracy: 0.8680\n",
            "Epoch 10/10\n",
            "391/391 [==============================] - 201s 514ms/step - loss: 0.1219 - accuracy: 0.9539 - val_loss: 0.4028 - val_accuracy: 0.8671\n"
          ]
        },
        {
          "output_type": "execute_result",
          "data": {
            "text/plain": [
              "<keras.src.callbacks.History at 0x79b8a735eec0>"
            ]
          },
          "metadata": {},
          "execution_count": 33
        }
      ]
    }
  ]
}